{
 "cells": [
  {
   "cell_type": "code",
   "execution_count": 1,
   "metadata": {},
   "outputs": [
    {
     "name": "stdout",
     "output_type": "stream",
     "text": [
      "()\n",
      "(1, 2, 3)\n",
      "(1, 'p4n', 3.4)\n",
      "('mouse', [8, 4, 6], (1, 2, 3))\n",
      "(90, 67, 88, 56, 44, 33)\n"
     ]
    }
   ],
   "source": [
    "# Empty tuple\n",
    "my_tuple = ()\n",
    "print(my_tuple)\n",
    "\n",
    "# Tuple having integers\n",
    "my_tuple = (1, 2, 3)\n",
    "print(my_tuple)\n",
    "\n",
    "# tuple with mixed datatypes\n",
    "my_tuple = (1, \"Patel\", 3.4)\n",
    "print(my_tuple)\n",
    "\n",
    "# nested tuple\n",
    "my_tuple = (\"Ant\", [8, 4, 6], (1, 2, 3))\n",
    "print(my_tuple)\n",
    "\n",
    "data = 90,67,88,56,44,33\n",
    "print(data)"
   ]
  },
  {
   "cell_type": "code",
   "execution_count": null,
   "metadata": {},
   "outputs": [],
   "source": []
  }
 ],
 "metadata": {
  "kernelspec": {
   "display_name": "Python 3",
   "language": "python",
   "name": "python3"
  },
  "language_info": {
   "codemirror_mode": {
    "name": "ipython",
    "version": 3
   },
   "file_extension": ".py",
   "mimetype": "text/x-python",
   "name": "python",
   "nbconvert_exporter": "python",
   "pygments_lexer": "ipython3",
   "version": "3.10.8"
  }
 },
 "nbformat": 4,
 "nbformat_minor": 2
}
