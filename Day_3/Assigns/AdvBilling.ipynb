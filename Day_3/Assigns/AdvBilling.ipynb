{
 "cells": [
  {
   "cell_type": "code",
   "execution_count": 3,
   "metadata": {},
   "outputs": [
    {
     "name": "stdout",
     "output_type": "stream",
     "text": [
      "-----------Bill-----------------\n",
      "1 .  samosa  =  800 ₹\n",
      "2 .  kachori  =  900 ₹\n",
      "3 .  pav  =  789 ₹\n",
      "GST % =  18\n",
      "GST Amount :-   448.02 ₹\n",
      "MRP (include GST) :  2937.02\n"
     ]
    }
   ],
   "source": [
    "product = []\n",
    "price = []\n",
    "product1 = input('Enter Product Name ')\n",
    "price1 = int(input('Enter Product Price  '))\n",
    "a= 1\n",
    "while(True):\n",
    "  ask = input('Do you Want to add more [Y/N]')\n",
    "  if ask =='Y' or ask =='y':\n",
    "    for i in range(1):\n",
    "      i = input('Enter Product Name ')\n",
    "      product.append(i)\n",
    "    a += 1\n",
    "    \n",
    "    for i in range(1):\n",
    "      i = int(input('Enter Product Price  '))\n",
    "      price.append(i)  \n",
    "  else:\n",
    "     break\n",
    "\n",
    "product.insert(0,product1)\n",
    "price.insert(0,price1)  \n",
    "size = len(product)\n",
    "print('-----------Bill-----------------')\n",
    "\n",
    "bill = input('Do you want to add GST [Y/N]')\n",
    "\n",
    "if bill == 'Y' or bill =='y':\n",
    "\n",
    "    Gst = int(input('Enter GST % '))\n",
    "    Total = 0\n",
    "\n",
    "    for i in range(size):\n",
    "      Total = Total + price[i]\n",
    "      print((i+1),'. ',product[i],' = ',price[i],'₹')\n",
    "\n",
    "    Gstamt = Total*Gst/100\n",
    "    MRP = Gstamt+Total\n",
    "    print('GST % = ',Gst)\n",
    "    print('GST Amount :-  ',Gstamt,'₹')    \n",
    "    print('MRP (include GST) : ',MRP)\n",
    "\n",
    "else:\n",
    "    total = 0\n",
    "    for i in range(size):\n",
    "        total = total + price[i]\n",
    "        print((i+1),'. ',product[i],' = ',price[i],'₹')\n",
    "\n",
    "    print('-----------------------------------------')\n",
    "    print(\"Total without GST = \",total)"
   ]
  }
 ],
 "metadata": {
  "kernelspec": {
   "display_name": "Python 3",
   "language": "python",
   "name": "python3"
  },
  "language_info": {
   "codemirror_mode": {
    "name": "ipython",
    "version": 3
   },
   "file_extension": ".py",
   "mimetype": "text/x-python",
   "name": "python",
   "nbconvert_exporter": "python",
   "pygments_lexer": "ipython3",
   "version": "3.10.8"
  }
 },
 "nbformat": 4,
 "nbformat_minor": 2
}
