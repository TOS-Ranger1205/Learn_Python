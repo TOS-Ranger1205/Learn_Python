{
 "cells": [
  {
   "cell_type": "code",
   "execution_count": null,
   "metadata": {},
   "outputs": [],
   "source": [
    "i=1\n",
    "\n",
    "while(i<=20):\n",
    "    if(i%2==0):\n",
    "        print(i,'is an Even Number')\n",
    "    else:\n",
    "        print(i,'is an Odd Number')\n",
    "\n",
    "    i += 1    \n"
   ]
  },
  {
   "cell_type": "code",
   "execution_count": null,
   "metadata": {},
   "outputs": [],
   "source": [
    "i=1\n",
    "num =int(input(\"Enter Your Number: \"))\n",
    "\n",
    "while(i<=num):\n",
    "    if(i%2==0):\n",
    "        print(i,'is an Even Number')\n",
    "    else:\n",
    "        print(i,'is an Odd Number')\n",
    "\n",
    "    i += 1 "
   ]
  },
  {
   "cell_type": "code",
   "execution_count": null,
   "metadata": {},
   "outputs": [],
   "source": [
    "i=1\n",
    "sum_even = 0;\n",
    "sum_odd = 0;\n",
    "while(i<=20):\n",
    "    if(i%2==0):\n",
    "        print(i,'is an Even Number')\n",
    "        sum_even = sum_even + i;\n",
    "    else:\n",
    "        print(i,'is an Odd Number')\n",
    "        sum_odd = sum_odd + i;\n",
    "\n",
    "    i += 1    \n",
    "\n",
    "print(\"The sum of even number :\",sum_even)\n",
    "print(\"The sum of odd number :\",sum_odd)    "
   ]
  }
 ],
 "metadata": {
  "kernelspec": {
   "display_name": "Python 3",
   "language": "python",
   "name": "python3"
  },
  "language_info": {
   "codemirror_mode": {
    "name": "ipython",
    "version": 3
   },
   "file_extension": ".py",
   "mimetype": "text/x-python",
   "name": "python",
   "nbconvert_exporter": "python",
   "pygments_lexer": "ipython3",
   "version": "3.10.8"
  }
 },
 "nbformat": 4,
 "nbformat_minor": 2
}
