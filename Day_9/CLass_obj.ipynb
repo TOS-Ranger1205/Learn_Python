{
 "cells": [
  {
   "cell_type": "code",
   "execution_count": 2,
   "metadata": {},
   "outputs": [],
   "source": [
    "class Employee:\n",
    "    def get_info():\n",
    "        print('Enter Employee name = joy')\n",
    "    def get_id():\n",
    "        print('Enter Employee id = E001')    \n"
   ]
  },
  {
   "cell_type": "code",
   "execution_count": 3,
   "metadata": {},
   "outputs": [
    {
     "name": "stdout",
     "output_type": "stream",
     "text": [
      "Enter Employee name = joy\n",
      "Enter Employee id = E001\n"
     ]
    }
   ],
   "source": [
    "# Creating object for the above class \n",
    "employee = Employee\n",
    "\n",
    "# calling function\n",
    "\n",
    "employee.get_info()\n",
    "employee.get_id()\n"
   ]
  },
  {
   "cell_type": "code",
   "execution_count": 4,
   "metadata": {},
   "outputs": [],
   "source": [
    " # using self into class function\n",
    "\n",
    "class tos_employee:\n",
    "  def get_info(self,name,id,salary,leave):\n",
    "    self.name = name\n",
    "    self.id = id\n",
    "    self.salary = salary\n",
    "    self.leave = leave\n",
    "  def print_info(self):\n",
    "    print('\\n--------------------------\\n')\n",
    "    print(\"Name : \",self.name)\n",
    "    print(\"EMP ID : \",self.id)\n",
    "    print(\"Monthly Salary : \",self.salary)\n",
    "    print(\"CTC (Yearly Salary ) : \",self.salary*12)\n",
    "    print(\"Leave Amount : \",self.leave*(self.salary*12)/365)\n",
    "    print(\"TDS Amount : \",(self.salary-(self.leave*(self.salary*12)/365))*2/100)\n",
    "    print(\"Final Pay Salary : \",(self.salary-((self.leave*(self.salary*12)/365)-(self.salary-(self.leave*(self.salary*12)/365))*2/100)))\n",
    "    print(\"Date = March/2023\")"
   ]
  },
  {
   "cell_type": "code",
   "execution_count": 5,
   "metadata": {},
   "outputs": [
    {
     "name": "stdout",
     "output_type": "stream",
     "text": [
      "\n",
      "--------------------------\n",
      "\n",
      "Name :  Joy\n",
      "EMP ID :  A001\n",
      "Monthly Salary :  10000\n",
      "CTC (Yearly Salary ) :  120000\n"
     ]
    },
    {
     "ename": "TypeError",
     "evalue": "'levamt' is an invalid keyword argument for print()",
     "output_type": "error",
     "traceback": [
      "\u001b[0;31m---------------------------------------------------------------------------\u001b[0m",
      "\u001b[0;31mTypeError\u001b[0m                                 Traceback (most recent call last)",
      "Cell \u001b[0;32mIn[5], line 5\u001b[0m\n\u001b[1;32m      3\u001b[0m employee \u001b[38;5;241m=\u001b[39m tos_employee()\n\u001b[1;32m      4\u001b[0m employee\u001b[38;5;241m.\u001b[39mget_info(\u001b[38;5;124m\"\u001b[39m\u001b[38;5;124mJoy\u001b[39m\u001b[38;5;124m\"\u001b[39m,\u001b[38;5;124m\"\u001b[39m\u001b[38;5;124mA001\u001b[39m\u001b[38;5;124m\"\u001b[39m,\u001b[38;5;241m10000\u001b[39m,\u001b[38;5;241m7\u001b[39m)\n\u001b[0;32m----> 5\u001b[0m \u001b[43memployee\u001b[49m\u001b[38;5;241;43m.\u001b[39;49m\u001b[43mprint_info\u001b[49m\u001b[43m(\u001b[49m\u001b[43m)\u001b[49m\n\u001b[1;32m      7\u001b[0m employee\u001b[38;5;241m.\u001b[39mget_info(\u001b[38;5;124m\"\u001b[39m\u001b[38;5;124mNishant\u001b[39m\u001b[38;5;124m\"\u001b[39m,\u001b[38;5;124m\"\u001b[39m\u001b[38;5;124mA034\u001b[39m\u001b[38;5;124m\"\u001b[39m,\u001b[38;5;241m85000\u001b[39m,\u001b[38;5;241m12\u001b[39m)\n\u001b[1;32m      8\u001b[0m employee\u001b[38;5;241m.\u001b[39mprint_info()\n",
      "Cell \u001b[0;32mIn[4], line 15\u001b[0m, in \u001b[0;36mtos_employee.print_info\u001b[0;34m(self)\u001b[0m\n\u001b[1;32m     13\u001b[0m \u001b[38;5;28mprint\u001b[39m(\u001b[38;5;124m\"\u001b[39m\u001b[38;5;124mMonthly Salary : \u001b[39m\u001b[38;5;124m\"\u001b[39m,\u001b[38;5;28mself\u001b[39m\u001b[38;5;241m.\u001b[39msalary)\n\u001b[1;32m     14\u001b[0m \u001b[38;5;28mprint\u001b[39m(\u001b[38;5;124m\"\u001b[39m\u001b[38;5;124mCTC (Yearly Salary ) : \u001b[39m\u001b[38;5;124m\"\u001b[39m,\u001b[38;5;28mself\u001b[39m\u001b[38;5;241m.\u001b[39msalary\u001b[38;5;241m*\u001b[39m\u001b[38;5;241m12\u001b[39m)\n\u001b[0;32m---> 15\u001b[0m \u001b[38;5;28;43mprint\u001b[39;49m\u001b[43m(\u001b[49m\u001b[38;5;124;43m\"\u001b[39;49m\u001b[38;5;124;43mLeave Amount : \u001b[39;49m\u001b[38;5;124;43m\"\u001b[39;49m\u001b[43m,\u001b[49m\u001b[43mlevamt\u001b[49m\u001b[38;5;241;43m=\u001b[39;49m\u001b[38;5;28;43mself\u001b[39;49m\u001b[38;5;241;43m.\u001b[39;49m\u001b[43mleave\u001b[49m\u001b[38;5;241;43m*\u001b[39;49m\u001b[43m(\u001b[49m\u001b[38;5;28;43mself\u001b[39;49m\u001b[38;5;241;43m.\u001b[39;49m\u001b[43msalary\u001b[49m\u001b[38;5;241;43m*\u001b[39;49m\u001b[38;5;241;43m12\u001b[39;49m\u001b[43m)\u001b[49m\u001b[38;5;241;43m/\u001b[39;49m\u001b[38;5;241;43m365\u001b[39;49m\u001b[43m)\u001b[49m\n\u001b[1;32m     16\u001b[0m \u001b[38;5;28mprint\u001b[39m(\u001b[38;5;124m\"\u001b[39m\u001b[38;5;124mTDS Amount : \u001b[39m\u001b[38;5;124m\"\u001b[39m,TDS\u001b[38;5;241m=\u001b[39m(\u001b[38;5;28mself\u001b[39m\u001b[38;5;241m.\u001b[39msalary\u001b[38;5;241m-\u001b[39m(\u001b[38;5;28mself\u001b[39m\u001b[38;5;241m.\u001b[39mleave\u001b[38;5;241m*\u001b[39m(\u001b[38;5;28mself\u001b[39m\u001b[38;5;241m.\u001b[39msalary\u001b[38;5;241m*\u001b[39m\u001b[38;5;241m12\u001b[39m)\u001b[38;5;241m/\u001b[39m\u001b[38;5;241m365\u001b[39m))\u001b[38;5;241m*\u001b[39m\u001b[38;5;241m2\u001b[39m\u001b[38;5;241m/\u001b[39m\u001b[38;5;241m100\u001b[39m)\n\u001b[1;32m     17\u001b[0m \u001b[38;5;28mprint\u001b[39m(\u001b[38;5;124m\"\u001b[39m\u001b[38;5;124mFinal Pay Salary : \u001b[39m\u001b[38;5;124m\"\u001b[39m,(\u001b[38;5;28mself\u001b[39m\u001b[38;5;241m.\u001b[39msalary\u001b[38;5;241m-\u001b[39m((\u001b[38;5;28mself\u001b[39m\u001b[38;5;241m.\u001b[39mleave\u001b[38;5;241m*\u001b[39m(\u001b[38;5;28mself\u001b[39m\u001b[38;5;241m.\u001b[39msalary\u001b[38;5;241m*\u001b[39m\u001b[38;5;241m12\u001b[39m)\u001b[38;5;241m/\u001b[39m\u001b[38;5;241m365\u001b[39m)\u001b[38;5;241m-\u001b[39m(\u001b[38;5;28mself\u001b[39m\u001b[38;5;241m.\u001b[39msalary\u001b[38;5;241m-\u001b[39m(\u001b[38;5;28mself\u001b[39m\u001b[38;5;241m.\u001b[39mleave\u001b[38;5;241m*\u001b[39m(\u001b[38;5;28mself\u001b[39m\u001b[38;5;241m.\u001b[39msalary\u001b[38;5;241m*\u001b[39m\u001b[38;5;241m12\u001b[39m)\u001b[38;5;241m/\u001b[39m\u001b[38;5;241m365\u001b[39m))\u001b[38;5;241m*\u001b[39m\u001b[38;5;241m2\u001b[39m\u001b[38;5;241m/\u001b[39m\u001b[38;5;241m100\u001b[39m)))\n",
      "\u001b[0;31mTypeError\u001b[0m: 'levamt' is an invalid keyword argument for print()"
     ]
    }
   ],
   "source": [
    "# create an object\n",
    "\n",
    "employee = tos_employee()\n",
    "employee.get_info(\"Joy\",\"A001\",10000,7)\n",
    "employee.print_info()\n",
    "\n",
    "employee.get_info(\"Nishant\",\"A034\",85000,12)\n",
    "employee.print_info()"
   ]
  }
 ],
 "metadata": {
  "kernelspec": {
   "display_name": "Python 3",
   "language": "python",
   "name": "python3"
  },
  "language_info": {
   "codemirror_mode": {
    "name": "ipython",
    "version": 3
   },
   "file_extension": ".py",
   "mimetype": "text/x-python",
   "name": "python",
   "nbconvert_exporter": "python",
   "pygments_lexer": "ipython3",
   "version": "3.10.13"
  }
 },
 "nbformat": 4,
 "nbformat_minor": 2
}
