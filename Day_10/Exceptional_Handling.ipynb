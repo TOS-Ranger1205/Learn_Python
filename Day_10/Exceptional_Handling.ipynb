{
 "cells": [
  {
   "cell_type": "code",
   "execution_count": 15,
   "metadata": {},
   "outputs": [
    {
     "name": "stdout",
     "output_type": "stream",
     "text": [
      "Name :Kush; Weight:55 and Height:3.0\n",
      "Your BMI : 6.111111111111111\n"
     ]
    }
   ],
   "source": [
    "try:\n",
    "    Name = str(input('Enter Your Name: '))\n",
    "    Weight = int(input('Enter Your weight (in Kgs): '))\n",
    "    Height = float(input('Enter Your Height (in meter): '))\n",
    "    BMI =  Weight/(Height*Height)\n",
    "    print(f'Name :{Name}; Weight:{Weight} and Height:{Height}')\n",
    "    print('Your BMI :',BMI)\n",
    "except ValueError:\n",
    "    print(\"Enter Only Number ...\")\n",
    "    try:\n",
    "        Name = str(input('Enter Your Name: '))\n",
    "        Weight = int(input('Enter Your weight (in Kgs): '))\n",
    "        Height = float(input('Enter Your Height (in meter): '))\n",
    "        BMI =  Weight/(Height*Height)\n",
    "        print(f'Name :{Name}; Weight:{Weight} and Height:{Height}')\n",
    "        print('Your BMI :',BMI)\n",
    "    except ValueError:\n",
    "        print(\"Enter Only Number ...\")\n",
    "    except ZeroDivisionError:\n",
    "        print(\"Do Not Enter Zero ...\") \n",
    "except ZeroDivisionError:\n",
    "    print(\"Do Not Enter Zero ...\") \n",
    "    try:\n",
    "        Name = str(input('Enter Your Name: '))\n",
    "        Weight = int(input('Enter Your weight (in Kgs): '))\n",
    "        Height = float(input('Enter Your Height (in meter): '))\n",
    "        BMI =  Weight/(Height*Height)\n",
    "        print(f'Name :{Name}; Weight:{Weight} and Height:{Height}')\n",
    "        print('Your BMI :',BMI)\n",
    "    except ValueError:\n",
    "        print(\"Enter Only Number ...\")\n",
    "    except ZeroDivisionError:\n",
    "        print(\"Do Not Enter Zero ...\") \n"
   ]
  }
 ],
 "metadata": {
  "kernelspec": {
   "display_name": "Python 3",
   "language": "python",
   "name": "python3"
  },
  "language_info": {
   "codemirror_mode": {
    "name": "ipython",
    "version": 3
   },
   "file_extension": ".py",
   "mimetype": "text/x-python",
   "name": "python",
   "nbconvert_exporter": "python",
   "pygments_lexer": "ipython3",
   "version": "3.10.13"
  }
 },
 "nbformat": 4,
 "nbformat_minor": 2
}
