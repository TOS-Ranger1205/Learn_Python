{
 "cells": [
  {
   "cell_type": "code",
   "execution_count": 1,
   "metadata": {},
   "outputs": [
    {
     "name": "stdout",
     "output_type": "stream",
     "text": [
      "welcome\n"
     ]
    }
   ],
   "source": [
    "print(\"welcome\")"
   ]
  },
  {
   "cell_type": "code",
   "execution_count": 2,
   "metadata": {},
   "outputs": [
    {
     "name": "stdout",
     "output_type": "stream",
     "text": [
      "5666\n"
     ]
    }
   ],
   "source": [
    "print(5666)"
   ]
  },
  {
   "cell_type": "code",
   "execution_count": 3,
   "metadata": {},
   "outputs": [
    {
     "name": "stdout",
     "output_type": "stream",
     "text": [
      "your name :  kush\n",
      "your age :  21\n",
      "your height :  5.5\n"
     ]
    }
   ],
   "source": [
    "# variable \n",
    "name = 'kush'\n",
    "age = 21\n",
    "height = 5.5\n",
    "\n",
    "print('your name : ',name)\n",
    "print('your age : ',age)\n",
    "print('your height : ',height)"
   ]
  },
  {
   "cell_type": "code",
   "execution_count": 11,
   "metadata": {},
   "outputs": [
    {
     "name": "stdout",
     "output_type": "stream",
     "text": [
      "<class 'int'>\n",
      "<class 'float'>\n",
      "<class 'str'>\n",
      "<class 'tuple'>\n",
      "<class 'tuple'>\n",
      "<class 'list'>\n",
      "<class 'set'>\n",
      "<class 'dict'>\n"
     ]
    }
   ],
   "source": [
    "# data type \n",
    "# using type()\n",
    "a = 10 \n",
    "print(type(a))\n",
    "a = 1.60 \n",
    "print(type(a))\n",
    "a = 'hello' \n",
    "print(type(a))\n",
    "a = 45,67,77\n",
    "print(type(a))\n",
    "a = (10,) \n",
    "print(type(a))\n",
    "a = [10,77,66] \n",
    "print(type(a))\n",
    "\n",
    "a = {5,4,3,2,2} \n",
    "print(type(a))\n",
    "\n",
    "a = {'name':'kush','age':23} \n",
    "print(type(a))"
   ]
  },
  {
   "cell_type": "code",
   "execution_count": 12,
   "metadata": {},
   "outputs": [
    {
     "name": "stdout",
     "output_type": "stream",
     "text": [
      "your name :  rrr\n",
      "your age :  45\n",
      "your height :  4.5\n"
     ]
    }
   ],
   "source": [
    "# variable \n",
    "name = str(input('Enter your name '))\n",
    "age = int(input('Enter your age '))\n",
    "height = float(input('Enter your height '))\n",
    "\n",
    "print('your name : ',name)\n",
    "print('your age : ',age)\n",
    "print('your height : ',height)"
   ]
  }
 ],
 "metadata": {
  "kernelspec": {
   "display_name": "Python 3",
   "language": "python",
   "name": "python3"
  },
  "language_info": {
   "codemirror_mode": {
    "name": "ipython",
    "version": 3
   },
   "file_extension": ".py",
   "mimetype": "text/x-python",
   "name": "python",
   "nbconvert_exporter": "python",
   "pygments_lexer": "ipython3",
   "version": "3.10.8"
  }
 },
 "nbformat": 4,
 "nbformat_minor": 2
}
