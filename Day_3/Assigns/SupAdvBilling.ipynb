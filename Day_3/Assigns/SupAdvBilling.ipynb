{
 "cells": [
  {
   "cell_type": "code",
   "execution_count": 1,
   "metadata": {},
   "outputs": [
    {
     "name": "stdout",
     "output_type": "stream",
     "text": [
      "-----------Bill-----------------\n",
      "1 .  Samosa X 5  =  100 ₹\n",
      "2 .  KAchori X 5  =  150 ₹\n",
      "3 .  Fafda X 2  =  100 ₹\n",
      "GST % =  10\n",
      "GST Amount :-   35.0 ₹\n",
      "MRP (include GST) :  385.0\n"
     ]
    }
   ],
   "source": [
    "product = []\n",
    "price = []\n",
    "quantity = []\n",
    "product1 = input('Enter Product Name ')\n",
    "price1 = int(input('Enter Product Price  '))\n",
    "quantity1 = int(input('Enter Product Quantity  '))\n",
    "\n",
    "\n",
    "while(True):\n",
    "  ask = input('Do you Want to add more [Y/N]')\n",
    "  if ask =='Y' or ask =='y':\n",
    "    for i in range(1):\n",
    "      i = input('Enter Product Name ')\n",
    "      product.append(i)\n",
    "    \n",
    "    for i in range(1):\n",
    "      i = int(input('Enter Product Price  '))\n",
    "      price.append(i)\n",
    "\n",
    "    for i in range(1):\n",
    "      i = int(input('Enter Product Quantity '))\n",
    "      quantity.append(i)  \n",
    "\n",
    "\n",
    "  else:\n",
    "     break\n",
    "\n",
    "product.insert(0,product1)\n",
    "price.insert(0,price1)\n",
    "quantity.insert(0,quantity1) \n",
    "\n",
    "size = len(product)\n",
    "\n",
    "print('-----------Bill-----------------')\n",
    "\n",
    "bill = input('Do you want to add GST [Y/N]')\n",
    "\n",
    "if bill == 'Y' or bill =='y':\n",
    "\n",
    "    Gst = int(input('Enter GST % '))\n",
    "    Total = 0\n",
    "\n",
    "    for i in range(size):\n",
    "      Total = Total + price[i]*quantity[i]\n",
    "      print((i+1),'. ',product[i],'X',quantity[i],' = ',price[i]*quantity[i],'₹')\n",
    "\n",
    "    Gstamt = Total*Gst/100\n",
    "    MRP = Gstamt+Total\n",
    "    print('GST % = ',Gst)\n",
    "    print('GST Amount :-  ',Gstamt,'₹')    \n",
    "    print('MRP (include GST) : ',MRP)\n",
    "\n",
    "\n",
    "\n",
    "else:\n",
    "    total = 0\n",
    "    for i in range(size):\n",
    "        total = total + price[i]\n",
    "        print((i+1),'. ',product[i],' = ',price[i],'₹')\n",
    "\n",
    "    print('-----------------------------------------')\n",
    "    print(\"Total without GST = \",total)\n",
    "\n",
    "\n",
    "offer = insert('Plk')\n"
   ]
  }
 ],
 "metadata": {
  "kernelspec": {
   "display_name": "Python 3",
   "language": "python",
   "name": "python3"
  },
  "language_info": {
   "codemirror_mode": {
    "name": "ipython",
    "version": 3
   },
   "file_extension": ".py",
   "mimetype": "text/x-python",
   "name": "python",
   "nbconvert_exporter": "python",
   "pygments_lexer": "ipython3",
   "version": "3.10.8"
  }
 },
 "nbformat": 4,
 "nbformat_minor": 2
}
