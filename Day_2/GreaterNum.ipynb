{
 "cells": [
  {
   "cell_type": "code",
   "execution_count": 18,
   "metadata": {},
   "outputs": [
    {
     "name": "stdout",
     "output_type": "stream",
     "text": [
      "Number 2 is Biggest....  90\n"
     ]
    }
   ],
   "source": [
    "num1 = int(input('enter number 1 '));\n",
    "num2 = int(input('enter number 2 '));\n",
    "num3 = int(input('enter number 3 '));\n",
    "\n",
    "if (num1>num2 and num1>num3):\n",
    "    print('Number 1 is biggest.... ',num1)\n",
    "\n",
    "elif(num2>num1 and num2>num3):\n",
    "    print('Number 2 is Biggest.... ',num2)\n",
    "else:\n",
    "    print('Number 3 is Biggest.... ',num3)"
   ]
  },
  {
   "cell_type": "code",
   "execution_count": 25,
   "metadata": {},
   "outputs": [
    {
     "name": "stdout",
     "output_type": "stream",
     "text": [
      "Number 1 is Smallest....  10\n"
     ]
    }
   ],
   "source": [
    "num1 = int(input('enter number 1 '));\n",
    "num2 = int(input('enter number 2 '));\n",
    "num3 = int(input('enter number 3 '));\n",
    "\n",
    "if (num1<num2 and num1<num3):\n",
    "    print('Number 1 is Smallest.... ',num1)\n",
    "\n",
    "elif(num2<num1 and num2<num3):\n",
    "    print('Number 2 is Smallest.... ',num2)\n",
    "else:\n",
    "    print('Number 3 is Smallest.... ',num3)"
   ]
  }
 ],
 "metadata": {
  "kernelspec": {
   "display_name": "Python 3",
   "language": "python",
   "name": "python3"
  },
  "language_info": {
   "codemirror_mode": {
    "name": "ipython",
    "version": 3
   },
   "file_extension": ".py",
   "mimetype": "text/x-python",
   "name": "python",
   "nbconvert_exporter": "python",
   "pygments_lexer": "ipython3",
   "version": "3.10.13"
  }
 },
 "nbformat": 4,
 "nbformat_minor": 2
}
