{
 "cells": [
  {
   "cell_type": "code",
   "execution_count": 1,
   "metadata": {},
   "outputs": [
    {
     "name": "stdout",
     "output_type": "stream",
     "text": [
      "()\n",
      "(1, 2, 3)\n",
      "(1, 'p4n', 3.4)\n",
      "('mouse', [8, 4, 6], (1, 2, 3))\n",
      "(90, 67, 88, 56, 44, 33)\n"
     ]
    }
   ],
   "source": [
    "# Empty tuple\n",
    "my_tuple = ()\n",
    "print(my_tuple)\n",
    "\n",
    "# Tuple having integers\n",
    "my_tuple = (1, 2, 3)\n",
    "print(my_tuple)\n",
    "\n",
    "# tuple with mixed datatypes\n",
    "my_tuple = (1, \"Patel\", 3.4)\n",
    "print(my_tuple)\n",
    "\n",
    "# nested tuple\n",
    "my_tuple = (\"Ant\", [8, 4, 6], (1, 2, 3))\n",
    "print(my_tuple)\n",
    "\n",
    "data = 90,67,88,56,44,33\n",
    "print(data)"
   ]
  },
  {
   "cell_type": "code",
   "execution_count": 1,
   "metadata": {},
   "outputs": [
    {
     "name": "stdout",
     "output_type": "stream",
     "text": [
      "t\n",
      "h\n",
      "('t', 'e', 'l')\n",
      "('a', 't', 'e', 'l', 'k', 'u')\n",
      "('k', 'u', 's', 'h', 'b')\n",
      "('p', 'a', 't', 'e', 'l')\n",
      "('p', 'a', 't', 'e', 'l', 'k', 'u', 's', 'h', 'b')\n"
     ]
    }
   ],
   "source": [
    "# Access Python Tuple Elements\n",
    "# accessing tuple elements using indexing\n",
    "\n",
    "#       -10   -9   -8   -7   -6   -5   -4   -3   -2   -1\n",
    "data = ('p', 'a', 't', 'e', 'l', 'k', 'u', 's', 'h', 'b')\n",
    "#        0.   1.   2.   3.   4.   5.   6.   7.   8.   9. \n",
    "\n",
    "print(data[2]) \n",
    "# accessing tuple elements using negative indexing\n",
    "print(data[-2]) \n",
    "\n",
    "# accessing tuple elements using slicing\n",
    "print(data[2:5]) \n",
    "print(data[-9:-3]) \n",
    "print(data[-5:]) \n",
    "print(data[:5]) \n",
    "print(data[:]) "
   ]
  },
  {
   "cell_type": "code",
   "execution_count": null,
   "metadata": {},
   "outputs": [],
   "source": [
    "# for loop to iterate over the elements of a tuple.\n",
    "languages = ('Python', 'Swift', 'C++')\n",
    "\n",
    "# iterating through the tuple\n",
    "for language in languages:\n",
    "    print(language)"
   ]
  },
  {
   "cell_type": "code",
   "execution_count": null,
   "metadata": {},
   "outputs": [],
   "source": [
    "# using index function into tuple index()\n",
    "data = ('w', 'w', 'w', '.', 'p', '4', 'n', '.', 'i', 'n')\n",
    "\n",
    "print(data.index('p'))"
   ]
  },
  {
   "cell_type": "code",
   "execution_count": 1,
   "metadata": {},
   "outputs": [
    {
     "name": "stdout",
     "output_type": "stream",
     "text": [
      "(10, 20, 30, 40, 50, 60, 70, 80, 90, 100)\n",
      "40\n",
      "2\n"
     ]
    }
   ],
   "source": [
    "ID = (10,20,30,40,50,60,70,80,90,100)\n",
    "\n",
    "print(ID)\n",
    "\n",
    "# access\n",
    "print(ID[3])\n",
    "\n",
    "#index\n",
    "print(ID.index(30))\n"
   ]
  },
  {
   "cell_type": "code",
   "execution_count": 3,
   "metadata": {},
   "outputs": [
    {
     "name": "stdout",
     "output_type": "stream",
     "text": [
      "10\n",
      "20\n",
      "30\n",
      "40\n",
      "50\n",
      "60\n",
      "70\n",
      "80\n",
      "90\n",
      "100\n"
     ]
    }
   ],
   "source": [
    "#  using for loop print\n",
    "\n",
    "for i in ID:\n",
    "  print(i)\n"
   ]
  }
 ],
 "metadata": {
  "kernelspec": {
   "display_name": "Python 3",
   "language": "python",
   "name": "python3"
  },
  "language_info": {
   "codemirror_mode": {
    "name": "ipython",
    "version": 3
   },
   "file_extension": ".py",
   "mimetype": "text/x-python",
   "name": "python",
   "nbconvert_exporter": "python",
   "pygments_lexer": "ipython3",
   "version": "3.10.13"
  }
 },
 "nbformat": 4,
 "nbformat_minor": 2
}
