{
 "cells": [
  {
   "cell_type": "code",
   "execution_count": 4,
   "metadata": {},
   "outputs": [
    {
     "name": "stdout",
     "output_type": "stream",
     "text": [
      "0    a\n",
      "1    b\n",
      "2    c\n",
      "3    d\n",
      "dtype: object\n"
     ]
    }
   ],
   "source": [
    "import pandas as pd\n",
    "\n",
    "\n",
    "# using series()\n",
    "\n",
    "\n",
    "data = ['a','b','c','d']\n",
    "\n",
    "s = pd.Series(data)\n",
    "\n",
    "print(s)"
   ]
  },
  {
   "cell_type": "code",
   "execution_count": 15,
   "metadata": {},
   "outputs": [
    {
     "name": "stdout",
     "output_type": "stream",
     "text": [
      "0    1\n",
      "1    2\n",
      "2    3\n",
      "3    4\n",
      "4    5\n",
      "dtype: int64\n"
     ]
    }
   ],
   "source": [
    "import numpy as np\n",
    "import pandas as pd\n",
    "# using series with ndarray\n",
    "\n",
    "data = np.array([1,2,3,4,5])\n",
    "\n",
    "s = pd.Series(data)\n",
    "\n",
    "print(s)"
   ]
  },
  {
   "cell_type": "code",
   "execution_count": 16,
   "metadata": {},
   "outputs": [
    {
     "name": "stdout",
     "output_type": "stream",
     "text": [
      "a    0.0\n",
      "b    1.0\n",
      "c    2.0\n",
      "dtype: float64\n"
     ]
    }
   ],
   "source": [
    "# using series() with dict\n",
    "\n",
    "data = {'a' : 0., 'b' : 1., 'c' : 2.}\n",
    "s = pd.Series(data)\n",
    "\n",
    "print(s)"
   ]
  },
  {
   "cell_type": "code",
   "execution_count": 26,
   "metadata": {},
   "outputs": [
    {
     "name": "stdout",
     "output_type": "stream",
     "text": [
      "101        mango\n",
      "102        apple\n",
      "103    pineapple\n",
      "104        lichi\n",
      "105       grapes\n",
      "dtype: object\n",
      "find data =  apple\n",
      "multipal data = \n",
      " 102        apple\n",
      "103    pineapple\n",
      "105       grapes\n",
      "dtype: object\n"
     ]
    }
   ],
   "source": [
    "# create list using course name\n",
    "\n",
    "fruits  = ['mango','apple','pineapple','lichi','grapes']\n",
    "\n",
    "# create series\n",
    "\n",
    "# create new index list\n",
    "index_no = [101,102,103,104,105]\n",
    "\n",
    "s = pd.Series(fruits,index=index_no)\n",
    "\n",
    "print(s)\n",
    "\n",
    "# find data using index\n",
    "\n",
    "print('find data = ',s[102])\n",
    "\n",
    "# find data multipal\n",
    "\n",
    "print('multipal data = \\n',s[[102,103,105]])"
   ]
  },
  {
   "cell_type": "code",
   "execution_count": 28,
   "metadata": {},
   "outputs": [
    {
     "name": "stdout",
     "output_type": "stream",
     "text": [
      "     Name  Age Country\n",
      "0    Kush   19     USA\n",
      "1    Neha   18  Canada\n",
      "2  Deepti   35      UK\n"
     ]
    }
   ],
   "source": [
    "# https://codeswithpankaj.medium.com/python-pandas-dataframe-6b7eb73a9393\n",
    "# From a Dictionary\n",
    "data = {\n",
    "    'Name': ['Kush', 'Neha', 'Deepti'],\n",
    "    'Age': [19, 18, 35],\n",
    "    'Country': ['USA', 'Canada', 'UK']\n",
    "}\n",
    "\n",
    "df = pd.DataFrame(data)\n",
    "\n",
    "print(df)\n"
   ]
  },
  {
   "cell_type": "code",
   "execution_count": 10,
   "metadata": {},
   "outputs": [
    {
     "name": "stdout",
     "output_type": "stream",
     "text": [
      "      Name  Age Country\n",
      "0    Alice   25     USA\n",
      "1      Bob   30  Canada\n",
      "2  Charlie   22      UK\n"
     ]
    }
   ],
   "source": [
    "data = [\n",
    "    {'Name': 'Alice', 'Age': 25, 'Country': 'USA'},\n",
    "    {'Name': 'Bob', 'Age': 30, 'Country': 'Canada'},\n",
    "    {'Name': 'Charlie', 'Age': 22, 'Country': 'UK'}\n",
    "]\n",
    "df = pd.DataFrame(data)\n",
    "print(df)"
   ]
  },
  {
   "cell_type": "code",
   "execution_count": 9,
   "metadata": {},
   "outputs": [
    {
     "name": "stdout",
     "output_type": "stream",
     "text": [
      "      Name Age Country\n",
      "0    Alice  25     USA\n",
      "1      Bob  30  Canada\n",
      "2  Charlie  22      UK\n"
     ]
    }
   ],
   "source": [
    "data = np.array([\n",
    "    ['Alice', 25, 'USA'],\n",
    "    ['Bob', 30, 'Canada'],\n",
    "    ['Charlie', 22, 'UK']\n",
    "])\n",
    "df = pd.DataFrame(data, columns=['Name', 'Age', 'Country'])\n",
    "print(df)"
   ]
  },
  {
   "cell_type": "code",
   "execution_count": 29,
   "metadata": {},
   "outputs": [
    {
     "ename": "SyntaxError",
     "evalue": "invalid decimal literal (567191556.py, line 5)",
     "output_type": "error",
     "traceback": [
      "\u001b[0;36m  Cell \u001b[0;32mIn[29], line 5\u001b[0;36m\u001b[0m\n\u001b[0;31m    print(1or0>1)\u001b[0m\n\u001b[0m          ^\u001b[0m\n\u001b[0;31mSyntaxError\u001b[0m\u001b[0;31m:\u001b[0m invalid decimal literal\n"
     ]
    }
   ],
   "source": [
    "\n",
    "arr =[1,2,3,4,5]\n",
    "if arr[2] <arr[-1]:\n",
    "    print (1 >2 and 2> 1 and 1 )\n",
    "else:\n",
    "    print(1or0>1)"
   ]
  }
 ],
 "metadata": {
  "kernelspec": {
   "display_name": "Python 3",
   "language": "python",
   "name": "python3"
  },
  "language_info": {
   "codemirror_mode": {
    "name": "ipython",
    "version": 3
   },
   "file_extension": ".py",
   "mimetype": "text/x-python",
   "name": "python",
   "nbconvert_exporter": "python",
   "pygments_lexer": "ipython3",
   "version": "3.10.13"
  }
 },
 "nbformat": 4,
 "nbformat_minor": 2
}
