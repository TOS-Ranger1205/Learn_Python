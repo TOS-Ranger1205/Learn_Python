{
 "cells": [
  {
   "cell_type": "code",
   "execution_count": 1,
   "metadata": {},
   "outputs": [
    {
     "name": "stdout",
     "output_type": "stream",
     "text": [
      "1 is an Odd Number\n",
      "2 is an Even Number\n",
      "3 is an Odd Number\n",
      "4 is an Even Number\n",
      "5 is an Odd Number\n",
      "6 is an Even Number\n",
      "7 is an Odd Number\n",
      "8 is an Even Number\n",
      "9 is an Odd Number\n",
      "10 is an Even Number\n",
      "11 is an Odd Number\n",
      "12 is an Even Number\n",
      "13 is an Odd Number\n",
      "14 is an Even Number\n",
      "15 is an Odd Number\n",
      "16 is an Even Number\n",
      "17 is an Odd Number\n",
      "18 is an Even Number\n",
      "19 is an Odd Number\n",
      "20 is an Even Number\n"
     ]
    }
   ],
   "source": [
    "i=1\n",
    "\n",
    "while(i<=20):\n",
    "    if(i%2==0):\n",
    "        print(i,'is an Even Number')\n",
    "    else:\n",
    "        print(i,'is an Odd Number')\n",
    "\n",
    "    i += 1    \n"
   ]
  },
  {
   "cell_type": "code",
   "execution_count": 4,
   "metadata": {},
   "outputs": [
    {
     "name": "stdout",
     "output_type": "stream",
     "text": [
      "1 is an Odd Number\n",
      "2 is an Even Number\n",
      "3 is an Odd Number\n",
      "4 is an Even Number\n",
      "5 is an Odd Number\n",
      "6 is an Even Number\n",
      "7 is an Odd Number\n",
      "8 is an Even Number\n",
      "9 is an Odd Number\n",
      "10 is an Even Number\n",
      "11 is an Odd Number\n",
      "12 is an Even Number\n",
      "13 is an Odd Number\n",
      "14 is an Even Number\n",
      "15 is an Odd Number\n",
      "16 is an Even Number\n",
      "17 is an Odd Number\n",
      "18 is an Even Number\n",
      "19 is an Odd Number\n",
      "20 is an Even Number\n",
      "The sum of even number : 110\n",
      "The sum of odd number : 100\n"
     ]
    }
   ],
   "source": [
    "i=1\n",
    "sum_even = 0;\n",
    "sum_odd = 0;\n",
    "while(i<=20):\n",
    "    if(i%2==0):\n",
    "        print(i,'is an Even Number')\n",
    "        sum_even = sum_even + i;\n",
    "    else:\n",
    "        print(i,'is an Odd Number')\n",
    "        sum_odd = sum_odd + i;\n",
    "\n",
    "    i += 1    \n",
    "\n",
    "print(\"The sum of even number :\",sum_even)\n",
    "print(\"The sum of odd number :\",sum_odd)    "
   ]
  }
 ],
 "metadata": {
  "kernelspec": {
   "display_name": "Python 3",
   "language": "python",
   "name": "python3"
  },
  "language_info": {
   "codemirror_mode": {
    "name": "ipython",
    "version": 3
   },
   "file_extension": ".py",
   "mimetype": "text/x-python",
   "name": "python",
   "nbconvert_exporter": "python",
   "pygments_lexer": "ipython3",
   "version": "3.10.8"
  }
 },
 "nbformat": 4,
 "nbformat_minor": 2
}
