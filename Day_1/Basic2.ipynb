{
 "cells": [
  {
   "cell_type": "code",
   "execution_count": 3,
   "metadata": {},
   "outputs": [
    {
     "name": "stdout",
     "output_type": "stream",
     "text": [
      "10\n",
      "1.2\n",
      "kush\n"
     ]
    }
   ],
   "source": [
    "num = 10\n",
    "num1 = 1.2\n",
    "name = \"kush\"\n",
    "print(num)\n",
    "print(num1)\n",
    "print(name)"
   ]
  },
  {
   "cell_type": "code",
   "execution_count": 4,
   "metadata": {},
   "outputs": [
    {
     "name": "stdout",
     "output_type": "stream",
     "text": [
      "10\n",
      "<class 'int'>\n",
      "1.2\n",
      "<class 'float'>\n",
      "kush\n",
      "<class 'str'>\n"
     ]
    }
   ],
   "source": [
    "num = 10\n",
    "num1 = 1.2\n",
    "name = \"kush\"\n",
    "print(num)\n",
    "print(type(num))\n",
    "print(num1)\n",
    "print(type(num1))\n",
    "print(name)\n",
    "print(type(name))"
   ]
  },
  {
   "cell_type": "code",
   "execution_count": 5,
   "metadata": {},
   "outputs": [
    {
     "name": "stdout",
     "output_type": "stream",
     "text": [
      "your name :  kush Patel\n",
      "your age :  18\n",
      "your height :  5.11\n"
     ]
    }
   ],
   "source": [
    "name = str(input('Enter your name '))\n",
    "age = int(input('Enter your age '))\n",
    "height = float(input('Enter your height '))\n",
    "\n",
    "print('your name : ',name)\n",
    "print('your age : ',age)\n",
    "print('your height : ',height)"
   ]
  },
  {
   "cell_type": "code",
   "execution_count": 9,
   "metadata": {},
   "outputs": [
    {
     "name": "stdout",
     "output_type": "stream",
     "text": [
      "kush Patel\n",
      "'Patel'\n",
      "'Hello World \n",
      "Have a good day\n",
      "Nice to meet you'\n"
     ]
    }
   ],
   "source": [
    "Name =\"Kush\"\n",
    "S_name=\"'Patel'\"\n",
    "Address=\"\"\"'Hello World \n",
    "Have a good day\n",
    "Nice to meet you'\"\"\"\n",
    "print(name)\n",
    "print(S_name)\n",
    "print(Address)"
   ]
  },
  {
   "cell_type": "code",
   "execution_count": 12,
   "metadata": {},
   "outputs": [
    {
     "name": "stdout",
     "output_type": "stream",
     "text": [
      "Kush Patel\n"
     ]
    }
   ],
   "source": [
    "F_name=\"Kush \"\n",
    "L_name=\"Patel\"\n",
    "print(F_name + L_name)"
   ]
  },
  {
   "cell_type": "code",
   "execution_count": 24,
   "metadata": {},
   "outputs": [
    {
     "name": "stdout",
     "output_type": "stream",
     "text": [
      "Addition for  20 + 10  =  30\n",
      "Subraction for  20 - 10  =  10\n",
      "Multiplication for  20 * 10  =  200\n",
      "Square for  20 ^ 10  =  10240000000000\n",
      "Division for  20 / 10  =  2.0\n",
      "Division without Decimal for  20 // 10  =  2\n",
      "Modulus for  20 % 10  =  0\n"
     ]
    }
   ],
   "source": [
    "num1 = 20\n",
    "num2 = 10\n",
    "print(\"Addition for \",num1 ,\"+\" ,num2,\" = \",num1+num2)\n",
    "print(\"Subraction for \",num1 ,\"-\" ,num2,\" = \",num1-num2)\n",
    "print(\"Multiplication for \",num1 ,\"*\" ,num2,\" = \",num1*num2)\n",
    "print(\"Square for \",num1 ,\"^\" ,num2,\" = \",num1**num2)\n",
    "print(\"Division for \",num1 ,\"/\" ,num2,\" = \",num1/num2)\n",
    "print(\"Division without Decimal for \",num1 ,\"//\" ,num2,\" = \",num1//num2)\n",
    "print(\"Modulus for \",num1 ,\"%\" ,num2,\" = \",num1%num2)\n"
   ]
  }
 ],
 "metadata": {
  "kernelspec": {
   "display_name": "Python 3",
   "language": "python",
   "name": "python3"
  },
  "language_info": {
   "codemirror_mode": {
    "name": "ipython",
    "version": 3
   },
   "file_extension": ".py",
   "mimetype": "text/x-python",
   "name": "python",
   "nbconvert_exporter": "python",
   "pygments_lexer": "ipython3",
   "version": "3.10.13"
  }
 },
 "nbformat": 4,
 "nbformat_minor": 2
}
