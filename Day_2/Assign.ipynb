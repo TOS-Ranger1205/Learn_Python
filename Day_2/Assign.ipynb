{
 "cells": [
  {
   "cell_type": "code",
   "execution_count": 7,
   "metadata": {},
   "outputs": [
    {
     "name": "stdout",
     "output_type": "stream",
     "text": [
      "The sum is 55\n"
     ]
    }
   ],
   "source": [
    "# Write a Program to Calculate the Sum of Natural Numbers ?\n",
    "\n",
    "num = 10\n",
    "\n",
    "sum = 0\n",
    "\n",
    "while(num > 0):\n",
    "   sum = sum + num \n",
    "   num = num - 1\n",
    "print(\"The sum is\", sum)\n"
   ]
  },
  {
   "cell_type": "code",
   "execution_count": 8,
   "metadata": {},
   "outputs": [
    {
     "name": "stdout",
     "output_type": "stream",
     "text": [
      "2 x  1 = 2\n",
      "2 x  2 = 4\n",
      "2 x  3 = 6\n",
      "2 x  4 = 8\n",
      "2 x  5 = 10\n",
      "2 x  6 = 12\n",
      "2 x  7 = 14\n",
      "2 x  8 = 16\n",
      "2 x  9 = 18\n",
      "2 x  10 = 20\n"
     ]
    }
   ],
   "source": [
    "# Write a Program to Generate Multiplication Table ?\n",
    "# Enter print Table Number : 2\n",
    "\n",
    "i=1\n",
    "for i in range(1,11):\n",
    "    print('2 x ',i, '=',i*2)"
   ]
  },
  {
   "cell_type": "code",
   "execution_count": 11,
   "metadata": {},
   "outputs": [
    {
     "name": "stdout",
     "output_type": "stream",
     "text": [
      "Number of digits: 6\n"
     ]
    }
   ],
   "source": [
    "# Write a Program to Count Number of Digits in an Integer\n",
    "count = 0\n",
    "num =int(input(\"Enter your Number: \"))\n",
    "while num != 0:\n",
    "    num = num // 10\n",
    "    count = count + 1\n",
    "\n",
    "print(\"Number of digits: \" + str(count))"
   ]
  },
  {
   "cell_type": "code",
   "execution_count": 12,
   "metadata": {},
   "outputs": [
    {
     "name": "stdout",
     "output_type": "stream",
     "text": [
      "1212121\n"
     ]
    }
   ],
   "source": [
    "# Write a Program to Reverse a Number\n",
    "#    Enter Number : 4569\n",
    "#    Reverse Number : 9654 \n",
    "\n",
    "i =int(input('Enter your number'))\n",
    "Revnum=0\n",
    "while(i>0):\n",
    "    Remainder=i%10\n",
    "    Revnum=(Revnum*10)+Remainder\n",
    "    i = i//10\n",
    "    \n",
    "print(Revnum)\n",
    "\n",
    "   "
   ]
  }
 ],
 "metadata": {
  "kernelspec": {
   "display_name": "Python 3",
   "language": "python",
   "name": "python3"
  },
  "language_info": {
   "codemirror_mode": {
    "name": "ipython",
    "version": 3
   },
   "file_extension": ".py",
   "mimetype": "text/x-python",
   "name": "python",
   "nbconvert_exporter": "python",
   "pygments_lexer": "ipython3",
   "version": "3.10.8"
  }
 },
 "nbformat": 4,
 "nbformat_minor": 2
}
