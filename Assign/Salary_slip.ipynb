{
 "cells": [
  {
   "cell_type": "code",
   "execution_count": 1,
   "metadata": {},
   "outputs": [
    {
     "name": "stdout",
     "output_type": "stream",
     "text": [
      "---------------Salary Slip-----------------\n",
      "Employee Name:  Kush\n",
      "Monthly Salary:  10000\n",
      "CTC (Yearly Salary ):  120000\n",
      "Leave Amount:  1643.835616438356\n",
      "TDS Amount:  835.6164383561643\n",
      "Final Pay Salary:  7520.547945205479\n",
      "Date:  May / 2020\n",
      "--------------------END-----------------------\n"
     ]
    }
   ],
   "source": [
    "Employee =input('Enter Employee Name ')\n",
    "Salary = int(input('Enter Employee salary  '))\n",
    "Leave = int(input('Enter no of leaves  '))\n",
    "TDSper = int(input('Enter TDS %'))\n",
    "Month = input('Enter your Salary Month')\n",
    "Year = input('Enter your Salary year')\n",
    "\n",
    "CTC = Salary*12\n",
    "DaySal = CTC/365\n",
    "DepLeave = DaySal*Leave\n",
    "GrossSAl = Salary-DepLeave\n",
    "TDS =  GrossSAl*TDSper/100\n",
    "FinalSAl = GrossSAl - TDS\n",
    "\n",
    "print('---------------Salary Slip-----------------')\n",
    "print('Employee Name: ',Employee)\n",
    "print('Monthly Salary: ',Salary)\n",
    "print('CTC (Yearly Salary ): ',CTC)\n",
    "print('Leave Amount: ',DepLeave)\n",
    "print('TDS Amount: ',TDS)\n",
    "print('Final Pay Salary: ',FinalSAl)\n",
    "print('Date: ',Month,'/',Year)\n",
    "print('------------------END----------------------')\n"
   ]
  }
 ],
 "metadata": {
  "kernelspec": {
   "display_name": "Python 3",
   "language": "python",
   "name": "python3"
  },
  "language_info": {
   "codemirror_mode": {
    "name": "ipython",
    "version": 3
   },
   "file_extension": ".py",
   "mimetype": "text/x-python",
   "name": "python",
   "nbconvert_exporter": "python",
   "pygments_lexer": "ipython3",
   "version": "3.10.13"
  }
 },
 "nbformat": 4,
 "nbformat_minor": 2
}
