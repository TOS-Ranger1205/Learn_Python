{
 "cells": [
  {
   "cell_type": "code",
   "execution_count": 4,
   "metadata": {},
   "outputs": [
    {
     "name": "stdout",
     "output_type": "stream",
     "text": [
      "----------------------------\n",
      "1 .  S  =>  20 ₹\n",
      "2 .  j  =>  30 ₹\n",
      "GST %  14\n",
      "GST Amount :-   7.0 ₹\n",
      "MRP [include GST : ] 57.0\n"
     ]
    }
   ],
   "source": [
    "size = int(input('Enter The Size ...'))\n",
    "product = []\n",
    "\n",
    "for i in range(size):\n",
    "  i = input('Enter Product Name ')\n",
    "  product.append(i)\n",
    "\n",
    "\n",
    "price = []\n",
    "\n",
    "for i in range(size):\n",
    "    i = int(input('Enter Product Price  '))\n",
    "    price.append(i)  \n",
    "\n",
    "print('----------------------------')\n",
    "\n",
    "bill = input('Do you want to add GST [Y/N]')\n",
    "\n",
    "if bill == 'Y' or bill =='y':\n",
    "    Gst = int(input('Enter GST % '))\n",
    "    Total = 0\n",
    "    for i in range(size):\n",
    "        Total = Total + price[i]\n",
    "        print((i+1),'. ',product[i],' => ',price[i],'₹')\n",
    "    Gstamt = Total*Gst/100\n",
    "    MRP = Gstamt+Total\n",
    "    print('GST % ',Gst)\n",
    "    print('GST Amount :-  ',Gstamt,'₹')    \n",
    "    print('MRP [include GST : ]',MRP)\n",
    "\n",
    "    \n",
    "else:\n",
    "    total = 0\n",
    "    for i in range(size):\n",
    "        total = total + price[i]\n",
    "        print((i+1),'. ',product[i],' => ',price[i],'₹')\n",
    "\n",
    "    print('-----------------------------------------')\n",
    "    print(\"Total without GST = \",total)"
   ]
  }
 ],
 "metadata": {
  "kernelspec": {
   "display_name": "Python 3",
   "language": "python",
   "name": "python3"
  },
  "language_info": {
   "codemirror_mode": {
    "name": "ipython",
    "version": 3
   },
   "file_extension": ".py",
   "mimetype": "text/x-python",
   "name": "python",
   "nbconvert_exporter": "python",
   "pygments_lexer": "ipython3",
   "version": "3.10.8"
  }
 },
 "nbformat": 4,
 "nbformat_minor": 2
}
