{
 "cells": [
  {
   "cell_type": "code",
   "execution_count": 18,
   "metadata": {},
   "outputs": [
    {
     "name": "stdout",
     "output_type": "stream",
     "text": [
      "0\n",
      "1\n",
      "2\n",
      "3\n",
      "4\n",
      "5\n",
      "6\n",
      "7\n",
      "8\n",
      "9\n",
      "10\n"
     ]
    }
   ],
   "source": [
    "i=0\n",
    "while(i<=10):\n",
    "    print(i)\n",
    "    i=i+1"
   ]
  },
  {
   "cell_type": "code",
   "execution_count": 19,
   "metadata": {},
   "outputs": [
    {
     "name": "stdout",
     "output_type": "stream",
     "text": [
      "0 is an Even Number\n",
      "1 is an Odd Number\n",
      "2 is an Even Number\n",
      "3 is an Odd Number\n",
      "4 is an Even Number\n",
      "5 is an Odd Number\n",
      "6 is an Even Number\n",
      "7 is an Odd Number\n",
      "8 is an Even Number\n",
      "9 is an Odd Number\n",
      "10 is an Even Number\n"
     ]
    }
   ],
   "source": [
    "i=0\n",
    "while(i<=10):\n",
    "\n",
    "    if(i%2==0):\n",
    "        print(i,\"is an Even Number\")\n",
    "    else:\n",
    "        print(i,\"is an Odd Number\")\n",
    "    i=i+1"
   ]
  },
  {
   "cell_type": "code",
   "execution_count": 26,
   "metadata": {},
   "outputs": [
    {
     "name": "stdout",
     "output_type": "stream",
     "text": [
      "1\n",
      "2\n",
      "3\n",
      "4\n",
      "5\n",
      "6\n",
      "7\n",
      "8\n",
      "9\n",
      "10\n"
     ]
    }
   ],
   "source": [
    "i=1\n",
    "for i in range(1,11):\n",
    "    print(i)"
   ]
  },
  {
   "cell_type": "code",
   "execution_count": 27,
   "metadata": {},
   "outputs": [
    {
     "name": "stdout",
     "output_type": "stream",
     "text": [
      "1 is an Odd Number\n",
      "2 is an Even Number\n",
      "3 is an Odd Number\n",
      "4 is an Even Number\n",
      "5 is an Odd Number\n",
      "6 is an Even Number\n",
      "7 is an Odd Number\n",
      "8 is an Even Number\n",
      "9 is an Odd Number\n",
      "10 is an Even Number\n"
     ]
    }
   ],
   "source": [
    "i=1\n",
    "for i in range(1,11):\n",
    "    if(i%2==0):\n",
    "        print(i,\"is an Even Number\")\n",
    "    else:\n",
    "        print(i,\"is an Odd Number\")\n",
    "    i=i+1"
   ]
  }
 ],
 "metadata": {
  "kernelspec": {
   "display_name": "Python 3",
   "language": "python",
   "name": "python3"
  },
  "language_info": {
   "codemirror_mode": {
    "name": "ipython",
    "version": 3
   },
   "file_extension": ".py",
   "mimetype": "text/x-python",
   "name": "python",
   "nbconvert_exporter": "python",
   "pygments_lexer": "ipython3",
   "version": "3.10.8"
  }
 },
 "nbformat": 4,
 "nbformat_minor": 2
}
