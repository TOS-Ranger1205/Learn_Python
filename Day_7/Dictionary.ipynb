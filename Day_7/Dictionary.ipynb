{
 "cells": [
  {
   "cell_type": "code",
   "execution_count": 2,
   "metadata": {},
   "outputs": [
    {
     "name": "stdout",
     "output_type": "stream",
     "text": [
      "{}\n",
      "<class 'dict'>\n"
     ]
    }
   ],
   "source": [
    "# empty dictionary\n",
    "\n",
    "data = {}\n",
    "print(data)\n",
    "print(type(data))"
   ]
  },
  {
   "cell_type": "code",
   "execution_count": 6,
   "metadata": {},
   "outputs": [
    {
     "name": "stdout",
     "output_type": "stream",
     "text": [
      "{1: 'one', 2: 'two', 3: 'Three'}\n",
      "one\n",
      "1st\n",
      "{1: '1st', 2: 'two', 3: 'Three', 4: 'four'}\n"
     ]
    }
   ],
   "source": [
    "data = {1:\"one\",2:\"two\",3:\"Three\"}\n",
    "print(data)\n",
    "print(data[1])\n",
    "\n",
    "# update data\n",
    "\n",
    "data[1] = \"1st\"\n",
    "print(data[1])\n",
    "\n",
    "data[4] = \"four\"\n",
    "print(data)\n"
   ]
  },
  {
   "cell_type": "code",
   "execution_count": 7,
   "metadata": {},
   "outputs": [
    {
     "name": "stdout",
     "output_type": "stream",
     "text": [
      "True\n",
      "False\n"
     ]
    }
   ],
   "source": [
    "\n",
    "#Check keys Existence \n",
    "print(1 in data)\n",
    "\n",
    "print(5 in data)"
   ]
  },
  {
   "cell_type": "code",
   "execution_count": 8,
   "metadata": {},
   "outputs": [
    {
     "name": "stdout",
     "output_type": "stream",
     "text": [
      "{'name': 'joy', 'age': 12, 'gender': 'male', 'height': 3.4}\n"
     ]
    }
   ],
   "source": [
    "data = {'name':'joy','age':12,'gender':'male','height':3.4}\n",
    "\n",
    "print(data)\n",
    "    "
   ]
  },
  {
   "cell_type": "code",
   "execution_count": 9,
   "metadata": {},
   "outputs": [
    {
     "name": "stdout",
     "output_type": "stream",
     "text": [
      "dict_keys(['name', 'age', 'gender', 'height'])\n",
      "dict_values(['joy', 12, 'male', 3.4])\n",
      "dict_items([('name', 'joy'), ('age', 12), ('gender', 'male'), ('height', 3.4)])\n",
      "joy\n"
     ]
    }
   ],
   "source": [
    "# keys()\n",
    "\n",
    "print(data.keys())\n",
    "\n",
    "# values()\n",
    "\n",
    "print(data.values())\n",
    "\n",
    "# items()\n",
    "\n",
    "print(data.items())\n",
    "\n",
    "# get()\n",
    "\n",
    "print(data.get('name'))\n"
   ]
  },
  {
   "cell_type": "code",
   "execution_count": 10,
   "metadata": {},
   "outputs": [
    {
     "name": "stdout",
     "output_type": "stream",
     "text": [
      "12\n",
      "{'name': 'joy', 'gender': 'male', 'height': 3.4}\n"
     ]
    }
   ],
   "source": [
    "# pop()\n",
    "\n",
    "print(data.pop('age'))\n",
    "\n",
    "print(data)"
   ]
  },
  {
   "cell_type": "code",
   "execution_count": 11,
   "metadata": {},
   "outputs": [
    {
     "name": "stdout",
     "output_type": "stream",
     "text": [
      "('height', 3.4)\n",
      "{'name': 'joy', 'gender': 'male'}\n"
     ]
    }
   ],
   "source": [
    "# popitem()\n",
    "\n",
    "print(data.popitem())\n",
    "\n",
    "print(data)"
   ]
  },
  {
   "cell_type": "code",
   "execution_count": 12,
   "metadata": {},
   "outputs": [
    {
     "name": "stdout",
     "output_type": "stream",
     "text": [
      "name joy\n",
      "gender male\n"
     ]
    }
   ],
   "source": [
    "# iteration\n",
    "for i in data:\n",
    "  print(i,data[i])"
   ]
  },
  {
   "cell_type": "code",
   "execution_count": 13,
   "metadata": {},
   "outputs": [
    {
     "name": "stdout",
     "output_type": "stream",
     "text": [
      "name joy\n",
      "age 12\n",
      "gender male\n",
      "height 3.4\n"
     ]
    }
   ],
   "source": [
    "data = {'name':'joy','age':12,'gender':'male','height':3.4}\n",
    "\n",
    "# print data from dict using for loop\n",
    "\n",
    "for key,value in data.items():\n",
    "  print(key,value)"
   ]
  },
  {
   "cell_type": "markdown",
   "metadata": {},
   "source": []
  },
  {
   "cell_type": "code",
   "execution_count": 20,
   "metadata": {},
   "outputs": [
    {
     "name": "stdout",
     "output_type": "stream",
     "text": [
      "Bob\n"
     ]
    }
   ],
   "source": [
    "# Nested Dictionary\n",
    "\n",
    "Students = {\n",
    "    \"student1\": {\n",
    "        \"name\": \"Jack\",\n",
    "        \"age\": 15\n",
    "    },\n",
    "    \"student2\": {\n",
    "        \"name\": \"Bob\",\n",
    "        \"age\": 20\n",
    "    },\n",
    "    \"student3\": {\n",
    "        \"name\": \"Ken\",\n",
    "        \"age\": 25\n",
    "    }\n",
    "}\n",
    "\n",
    "print(Students['student2']['name'])\n",
    "\n",
    "\n"
   ]
  }
 ],
 "metadata": {
  "kernelspec": {
   "display_name": "Python 3",
   "language": "python",
   "name": "python3"
  },
  "language_info": {
   "codemirror_mode": {
    "name": "ipython",
    "version": 3
   },
   "file_extension": ".py",
   "mimetype": "text/x-python",
   "name": "python",
   "nbconvert_exporter": "python",
   "pygments_lexer": "ipython3",
   "version": "3.10.13"
  }
 },
 "nbformat": 4,
 "nbformat_minor": 2
}
