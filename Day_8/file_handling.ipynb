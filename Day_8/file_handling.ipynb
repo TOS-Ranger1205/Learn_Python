{
 "cells": [
  {
   "cell_type": "code",
   "execution_count": 1,
   "metadata": {},
   "outputs": [],
   "source": [
    "# write in file\n",
    "with open(\"output.txt\",\"w\") as file:\n",
    "    file.write(\"This is the First Line.\\n\")\n",
    "    file.write(\"This is the Second Line.\\n\")"
   ]
  },
  {
   "cell_type": "code",
   "execution_count": 3,
   "metadata": {},
   "outputs": [
    {
     "name": "stdout",
     "output_type": "stream",
     "text": [
      "This is the First Line.\n",
      "This is the Second Line.\n",
      "\n"
     ]
    }
   ],
   "source": [
    "#read  in ffile\n",
    "with open(\"output.txt\",\"r\") as file:\n",
    "    content = file.read()\n",
    "    print(content)"
   ]
  },
  {
   "cell_type": "code",
   "execution_count": 5,
   "metadata": {},
   "outputs": [
    {
     "name": "stdout",
     "output_type": "stream",
     "text": [
      "This is the First Line.\n",
      "This is the Second Line.\n",
      "\n"
     ]
    }
   ],
   "source": [
    "# append to a file\n",
    "with open(\"output.txt\",\"a\") as file:\n",
    "    file.write(\"\\n THis is an appended line.\")\n",
    "    file.write(\"\\n HI this is kush patel\")\n",
    "   "
   ]
  }
 ],
 "metadata": {
  "kernelspec": {
   "display_name": "Python 3",
   "language": "python",
   "name": "python3"
  },
  "language_info": {
   "codemirror_mode": {
    "name": "ipython",
    "version": 3
   },
   "file_extension": ".py",
   "mimetype": "text/x-python",
   "name": "python",
   "nbconvert_exporter": "python",
   "pygments_lexer": "ipython3",
   "version": "3.10.13"
  }
 },
 "nbformat": 4,
 "nbformat_minor": 2
}
