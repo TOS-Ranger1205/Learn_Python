{
 "cells": [
  {
   "cell_type": "code",
   "execution_count": 4,
   "metadata": {},
   "outputs": [
    {
     "name": "stdout",
     "output_type": "stream",
     "text": [
      "---------------Salary Slip-----------------\n",
      "Employee Name:  k\n",
      "Monthly Salary:  10000\n",
      "CTC (Yearly Salary ):  120000\n",
      "Leave Amount:  3278.688524590164\n",
      "TDS Amount:  672.1311475409836\n",
      "Final Pay Salary:  6049.180327868852\n",
      "Date:  May / 2020\n",
      "------------------END----------------------\n"
     ]
    }
   ],
   "source": [
    "Employee =input('Enter Employee Name ')\n",
    "Salary = int(input('Enter Employee salary  '))\n",
    "Leave = int(input('Enter no of leaves  '))\n",
    "TDSper = int(input('Enter TDS %'))\n",
    "Month = input('Enter your Salary Month')\n",
    "Year = int(input('Enter your Salary year'))\n",
    "\n",
    "CTC = Salary*12\n",
    "if(Year % 400==0) or (Year % 4 == 0 and Year % 100 != 0):\n",
    "    DaySal = CTC/366\n",
    "else:\n",
    "    DaySal = CTC/365    \n",
    "\n",
    "DepLeave = DaySal*Leave\n",
    "GrossSAl = Salary-DepLeave\n",
    "TDS =  GrossSAl*TDSper/100\n",
    "FinalSAl = GrossSAl - TDS\n",
    "\n",
    "print('---------------Salary Slip-----------------')\n",
    "print('Employee Name: ',Employee)\n",
    "print('Monthly Salary: ',Salary)\n",
    "print('CTC (Yearly Salary ): ',CTC)\n",
    "print('Leave Amount: ',DepLeave)\n",
    "print('TDS Amount: ',TDS)\n",
    "print('Final Pay Salary: ',FinalSAl)\n",
    "print('Date: ',Month,'/',Year)\n",
    "print('------------------END----------------------')\n"
   ]
  }
 ],
 "metadata": {
  "kernelspec": {
   "display_name": "Python 3",
   "language": "python",
   "name": "python3"
  },
  "language_info": {
   "codemirror_mode": {
    "name": "ipython",
    "version": 3
   },
   "file_extension": ".py",
   "mimetype": "text/x-python",
   "name": "python",
   "nbconvert_exporter": "python",
   "pygments_lexer": "ipython3",
   "version": "3.10.13"
  }
 },
 "nbformat": 4,
 "nbformat_minor": 2
}
