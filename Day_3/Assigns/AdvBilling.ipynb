{
 "cells": [
  {
   "cell_type": "code",
   "execution_count": 8,
   "metadata": {},
   "outputs": [
    {
     "name": "stdout",
     "output_type": "stream",
     "text": [
      "-----------Bill-----------------\n",
      "5\n",
      "4\n",
      "[100, 200, 300, 400]\n",
      "1 .  sAMOSA  =  100 ₹\n",
      "2 .  Fafda  =  200 ₹\n",
      "3 .  Kachori  =  300 ₹\n",
      "4 .  Pate;  =  400 ₹\n",
      "GST % =  10\n",
      "GST Amount :-   100.0 ₹\n",
      "MRP (include GST) :  1100.0\n"
     ]
    }
   ],
   "source": [
    "size = int(input('Enter The Size ...'))\n",
    "product = []\n",
    "price = []\n",
    "a= 1\n",
    "while( a <=size):\n",
    "  ask = input('Do you Want to add more [Y/N]')\n",
    "  if ask =='Y' or ask =='y':\n",
    "    for i in range(1):\n",
    "      i = input('Enter Product Name ')\n",
    "      product.append(i)\n",
    "    a += 1\n",
    "    \n",
    "    for i in range(1):\n",
    "      i = int(input('Enter Product Price  '))\n",
    "      price.append(i)  \n",
    "\n",
    "print('-----------Bill-----------------')\n",
    "print(a)\n",
    "print(size)\n",
    "print(price[:])\n",
    "bill = input('Do you want to add GST [Y/N]')\n",
    "\n",
    "if bill == 'Y' or bill =='y':\n",
    "\n",
    "    Gst = int(input('Enter GST % '))\n",
    "    Total = 0\n",
    "\n",
    "    for i in range(size):\n",
    "        Total = Total + price[i]\n",
    "        print((i+1),'. ',product[i],' = ',price[i],'₹')\n",
    "\n",
    "    Gstamt = Total*Gst/100\n",
    "    MRP = Gstamt+Total\n",
    "    print('GST % = ',Gst)\n",
    "    print('GST Amount :-  ',Gstamt,'₹')    \n",
    "    print('MRP (include GST) : ',MRP)\n",
    "\n",
    "else:\n",
    "    total = 0\n",
    "    for i in range(size):\n",
    "        total = total + price[i]\n",
    "        print((i+1),'. ',product[i],' = ',price[i],'₹')\n",
    "\n",
    "    print('-----------------------------------------')\n",
    "    print(\"Total without GST = \",total)"
   ]
  }
 ],
 "metadata": {
  "kernelspec": {
   "display_name": "Python 3",
   "language": "python",
   "name": "python3"
  },
  "language_info": {
   "codemirror_mode": {
    "name": "ipython",
    "version": 3
   },
   "file_extension": ".py",
   "mimetype": "text/x-python",
   "name": "python",
   "nbconvert_exporter": "python",
   "pygments_lexer": "ipython3",
   "version": "3.10.8"
  }
 },
 "nbformat": 4,
 "nbformat_minor": 2
}
