{
 "cells": [
  {
   "cell_type": "code",
   "execution_count": 17,
   "metadata": {},
   "outputs": [
    {
     "name": "stdout",
     "output_type": "stream",
     "text": [
      "0 is an Even Number\n",
      "1 is an Odd Number\n",
      "2 is an Even Number\n",
      "3 is an Odd Number\n",
      "4 is an Even Number\n",
      "5 is an Odd Number\n",
      "6 is an Even Number\n",
      "7 is an Odd Number\n",
      "8 is an Even Number\n",
      "9 is an Odd Number\n",
      "10 is an Even Number\n"
     ]
    }
   ],
   "source": [
    "i=0\n",
    "while(i<=10):\n",
    "\n",
    "    if(i%2==0):\n",
    "        print(i,\"is an Even Number\")\n",
    "    else:\n",
    "        print(i,\"is an Odd Number\")\n",
    "    i=i+1"
   ]
  }
 ],
 "metadata": {
  "kernelspec": {
   "display_name": "Python 3",
   "language": "python",
   "name": "python3"
  },
  "language_info": {
   "codemirror_mode": {
    "name": "ipython",
    "version": 3
   },
   "file_extension": ".py",
   "mimetype": "text/x-python",
   "name": "python",
   "nbconvert_exporter": "python",
   "pygments_lexer": "ipython3",
   "version": "3.10.8"
  }
 },
 "nbformat": 4,
 "nbformat_minor": 2
}
