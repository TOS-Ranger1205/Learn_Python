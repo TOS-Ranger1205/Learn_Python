{
 "cells": [
  {
   "cell_type": "code",
   "execution_count": 2,
   "metadata": {},
   "outputs": [
    {
     "name": "stdout",
     "output_type": "stream",
     "text": [
      "1\n",
      "2\n",
      "3\n",
      "4\n",
      "5\n",
      "6\n",
      "7\n",
      "8\n",
      "9\n"
     ]
    }
   ],
   "source": [
    "for i in range(1,10):\n",
    "    print(i)"
   ]
  },
  {
   "cell_type": "code",
   "execution_count": 3,
   "metadata": {},
   "outputs": [
    {
     "name": "stdout",
     "output_type": "stream",
     "text": [
      "car\n",
      "bike\n",
      "bus\n",
      "train\n",
      "truck\n"
     ]
    }
   ],
   "source": [
    "for i in ['car','bike','bus','train','truck']:\n",
    "    print(i) "
   ]
  },
  {
   "cell_type": "code",
   "execution_count": 9,
   "metadata": {},
   "outputs": [
    {
     "name": "stdout",
     "output_type": "stream",
     "text": [
      "car bike bus train truck "
     ]
    }
   ],
   "source": [
    "x =['car','bike','bus','train','truck']\n",
    "for i in x:\n",
    "    print(i ,end=\" \") "
   ]
  },
  {
   "cell_type": "code",
   "execution_count": 7,
   "metadata": {},
   "outputs": [
    {
     "name": "stdout",
     "output_type": "stream",
     "text": [
      "['car', 'bike', 'bus', 'train', 'truck']\n"
     ]
    }
   ],
   "source": [
    "print(x)"
   ]
  },
  {
   "cell_type": "code",
   "execution_count": 10,
   "metadata": {},
   "outputs": [
    {
     "name": "stdout",
     "output_type": "stream",
     "text": [
      "Before : ['car', 'bike', 'bus', 'train', 'truck']\n",
      "After : ['truck', 'bike', 'bus', 'train', 'car']\n"
     ]
    }
   ],
   "source": [
    "a =['car','bike','bus','train','truck']\n",
    "print(\"Before :\",a)\n",
    "temp =a[0]\n",
    "a[0] = a[-1]\n",
    "a[-1] = temp\n",
    "\n",
    "print(\"After :\",a)"
   ]
  },
  {
   "cell_type": "code",
   "execution_count": 12,
   "metadata": {},
   "outputs": [
    {
     "name": "stdout",
     "output_type": "stream",
     "text": [
      "4 x 1 =4\n",
      "4 x 2 =8\n",
      "4 x 3 =12\n",
      "4 x 4 =16\n",
      "4 x 5 =20\n",
      "4 x 6 =24\n",
      "4 x 7 =28\n",
      "4 x 8 =32\n",
      "4 x 9 =36\n",
      "4 x 10 =40\n"
     ]
    }
   ],
   "source": [
    "num =int(input(\"Enter number for table :\"))\n",
    "\n",
    "for i in range(1,11):\n",
    "    # print(num,\"X\",i,\"=\",num*i)\n",
    "    print(f\"{num} x {i} ={num*i}\")"
   ]
  }
 ],
 "metadata": {
  "kernelspec": {
   "display_name": "Python 3",
   "language": "python",
   "name": "python3"
  },
  "language_info": {
   "codemirror_mode": {
    "name": "ipython",
    "version": 3
   },
   "file_extension": ".py",
   "mimetype": "text/x-python",
   "name": "python",
   "nbconvert_exporter": "python",
   "pygments_lexer": "ipython3",
   "version": "3.10.13"
  }
 },
 "nbformat": 4,
 "nbformat_minor": 2
}
