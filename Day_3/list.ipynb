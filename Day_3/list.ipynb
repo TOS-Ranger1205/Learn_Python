{
 "cells": [
  {
   "cell_type": "code",
   "execution_count": 3,
   "metadata": {},
   "outputs": [
    {
     "name": "stdout",
     "output_type": "stream",
     "text": [
      "<class 'list'>\n",
      "<class 'list'>\n",
      "[0, 2, 4, 3, 1, 5, 6, 7, 9, 8]\n",
      "<class 'list'>\n",
      "['apple', 'banana', 'kiwi']\n"
     ]
    }
   ],
   "source": [
    "Data=[0,2,4,3,1,5,6,7,9,8]\n",
    "Fruits=['apple','banana','kiwi']\n",
    "mixed_list = [10,\"hello\",3.14,True]\n",
    "\n",
    "print(type(Data))\n",
    "print(Data)\n",
    "print(type(Fruits))\n",
    "print(Fruits)\n",
    "\n",
    "\n"
   ]
  },
  {
   "cell_type": "code",
   "execution_count": 5,
   "metadata": {},
   "outputs": [
    {
     "name": "stdout",
     "output_type": "stream",
     "text": [
      "[3, 4, 5, 6]\n",
      "[4, 5, 6, 7, 8, 9, 10]\n",
      "[1, 2, 3, 4, 5]\n",
      "[1, 2, 3, 4, 5, 6]\n",
      "[6, 7, 8, 9, 10]\n",
      "[1, 2, 3, 4, 5, 6, 7, 8, 9, 10]\n"
     ]
    }
   ],
   "source": [
    "# Slicing of a Python List\n",
    "#        -11-10.-9.-8.-7.-6.-5.-4.-3.-2.-1\n",
    "numbers = [ 1, 2, 3, 4, 5, 6, 7, 8, 9, 10]\n",
    "#         0  1  2  3  4  5  6  7  8  9  10\n",
    "part_list = numbers[2:6]   # [3, 4, 5, 6]\n",
    "print(part_list)\n",
    "\n",
    "print(numbers[3:])\n",
    "print(numbers[:5])\n",
    "print(numbers[:-4])\n",
    "print(numbers[-5:])\n",
    "print(numbers[:])"
   ]
  },
  {
   "cell_type": "code",
   "execution_count": null,
   "metadata": {},
   "outputs": [],
   "source": []
  }
 ],
 "metadata": {
  "kernelspec": {
   "display_name": "Python 3",
   "language": "python",
   "name": "python3"
  },
  "language_info": {
   "codemirror_mode": {
    "name": "ipython",
    "version": 3
   },
   "file_extension": ".py",
   "mimetype": "text/x-python",
   "name": "python",
   "nbconvert_exporter": "python",
   "pygments_lexer": "ipython3",
   "version": "3.10.8"
  }
 },
 "nbformat": 4,
 "nbformat_minor": 2
}
