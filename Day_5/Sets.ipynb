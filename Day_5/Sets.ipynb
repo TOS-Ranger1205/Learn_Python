{
 "cells": [
  {
   "cell_type": "code",
   "execution_count": 1,
   "metadata": {},
   "outputs": [
    {
     "name": "stdout",
     "output_type": "stream",
     "text": [
      "{160, 130, 200, 170, 140, 110, 180, 150, 120, 190}\n"
     ]
    }
   ],
   "source": [
    "Student_id = {110,120,130,140,150,160,170,180,190,200}\n",
    "\n",
    "print(Student_id)"
   ]
  },
  {
   "cell_type": "code",
   "execution_count": 1,
   "metadata": {},
   "outputs": [
    {
     "name": "stdout",
     "output_type": "stream",
     "text": [
      "Peach\n",
      "Apple\n",
      "Mango\n"
     ]
    }
   ],
   "source": [
    "# Iterate Over a Set in Python\n",
    "fruits = {\"Apple\", \"Peach\", \"Mango\"}\n",
    "# for loop to access each fruits\n",
    "for fruit in fruits: \n",
    "    print(fruit)"
   ]
  }
 ],
 "metadata": {
  "kernelspec": {
   "display_name": "Python 3",
   "language": "python",
   "name": "python3"
  },
  "language_info": {
   "codemirror_mode": {
    "name": "ipython",
    "version": 3
   },
   "file_extension": ".py",
   "mimetype": "text/x-python",
   "name": "python",
   "nbconvert_exporter": "python",
   "pygments_lexer": "ipython3",
   "version": "3.10.8"
  }
 },
 "nbformat": 4,
 "nbformat_minor": 2
}
