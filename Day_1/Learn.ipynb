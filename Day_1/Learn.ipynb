{
 "cells": [
  {
   "cell_type": "code",
   "execution_count": 1,
   "metadata": {},
   "outputs": [
    {
     "name": "stdout",
     "output_type": "stream",
     "text": [
      "your name :  kush\n",
      "your age :  21\n",
      "your height :  5.5\n"
     ]
    }
   ],
   "source": [
    "name = 'kush'\n",
    "age = 21\n",
    "height = 5.5\n",
    "\n",
    "print('your name : ',name)\n",
    "print('your age : ',age)\n",
    "print('your height : ',height)"
   ]
  },
  {
   "cell_type": "code",
   "execution_count": 2,
   "metadata": {},
   "outputs": [
    {
     "name": "stdout",
     "output_type": "stream",
     "text": [
      "<class 'int'>\n",
      "<class 'float'>\n",
      "<class 'str'>\n",
      "<class 'tuple'>\n",
      "<class 'tuple'>\n",
      "<class 'list'>\n",
      "<class 'set'>\n",
      "<class 'dict'>\n"
     ]
    }
   ],
   "source": [
    "a = 10 \n",
    "print(type(a))\n",
    "a = 1.60 \n",
    "print(type(a))\n",
    "a = 'hello' \n",
    "print(type(a))\n",
    "a = 45,67,77\n",
    "print(type(a))\n",
    "a = (10,) \n",
    "print(type(a))\n",
    "a = [10,77,66] \n",
    "print(type(a))\n",
    "\n",
    "a = {5,4,3,2,2} \n",
    "print(type(a))\n",
    "\n",
    "a = {'name':'kush','age':23} \n",
    "print(type(a))\n"
   ]
  },
  {
   "cell_type": "code",
   "execution_count": 3,
   "metadata": {},
   "outputs": [
    {
     "name": "stdout",
     "output_type": "stream",
     "text": [
      "your name :  \n",
      "your age :  2\n",
      "your height :  5.9\n"
     ]
    }
   ],
   "source": [
    "name = str(input('Enter your name '))\n",
    "age = int(input('Enter your age '))\n",
    "height = float(input('Enter your height '))\n",
    "\n",
    "print('your name : ',name)\n",
    "print('your age : ',age)\n",
    "print('your height : ',height)"
   ]
  },
  {
   "cell_type": "code",
   "execution_count": null,
   "metadata": {},
   "outputs": [],
   "source": [
    "name = \"joy\"\n",
    "age = 12\n",
    "height = 3.5\n",
    "\n",
    "print(\"My Name is : \",name)\n",
    "print(\"My Age is : \",age)\n",
    "print(\"My height is : \",height)\n",
    "\n",
    "number1 = 100\n",
    "number2 = 200\n",
    "result = number1+number2\n",
    "print(\"Result is : - \",result)\n",
    "\n",
    "\n",
    "name = str(input(\"Enter Your Name \"))\n",
    "age = int(input(\"Enter Your age \"))\n",
    "height = float(input(\"Enter Your height \"))\n",
    "\n",
    "print(\"My Name is : \",name)\n",
    "print(\"My Age is : \",age)\n",
    "print(\"My height is : \",height)"
   ]
  }
 ],
 "metadata": {
  "kernelspec": {
   "display_name": "Python 3",
   "language": "python",
   "name": "python3"
  },
  "language_info": {
   "codemirror_mode": {
    "name": "ipython",
    "version": 3
   },
   "file_extension": ".py",
   "mimetype": "text/x-python",
   "name": "python",
   "nbconvert_exporter": "python",
   "pygments_lexer": "ipython3",
   "version": "3.10.8"
  }
 },
 "nbformat": 4,
 "nbformat_minor": 2
}
