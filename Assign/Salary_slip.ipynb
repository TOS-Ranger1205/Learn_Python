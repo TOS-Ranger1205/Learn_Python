{
 "cells": [
  {
   "cell_type": "code",
   "execution_count": null,
   "metadata": {},
   "outputs": [],
   "source": [
    "Employee =input('Enter Employee Name ')\n",
    "Salary = int(input('Enter Employee salary  '))\n",
    "leave = int(input('Enter no of leaves  '))\n",
    "TDS = int(input('Enter TDS %'))\n",
    "Month = input('Enter your Salary Month')\n",
    "year = input('Enter your Salary year')\n",
    "\n",
    "CTC = Salary*12\n",
    "\n",
    "\n"
   ]
  }
 ],
 "metadata": {
  "language_info": {
   "name": "python"
  }
 },
 "nbformat": 4,
 "nbformat_minor": 2
}
